{
 "cells": [
  {
   "cell_type": "markdown",
   "metadata": {},
   "source": [
    "<h2> Combining Simulations and Value-at-Risk </h2>"
   ]
  },
  {
   "cell_type": "code",
   "execution_count": 45,
   "metadata": {},
   "outputs": [],
   "source": [
    "import pandas as pd\n",
    "import numpy as np\n",
    "import statsmodels.api as sm\n",
    "import matplotlib.pyplot as plt\n",
    "from scipy.stats import norm\n",
    "\n",
    "def simulated_var_analysis(returns):\n",
    "    bootstrap_samples = np.random.choice(returns, size=(10000), replace=True)\n",
    "    var_values = np.percentile(bootstrap_samples, [5])\n",
    "    return np.mean(var_values)"
   ]
  },
  {
   "cell_type": "markdown",
   "metadata": {},
   "source": [
    "Testing code using bootstrapped simulated "
   ]
  },
  {
   "cell_type": "code",
   "execution_count": 46,
   "metadata": {},
   "outputs": [
    {
     "name": "stdout",
     "output_type": "stream",
     "text": [
      "ENB VaR: -2.49%\n",
      "LHX VaR: -2.29%\n",
      "CRM VaR: -3.45%\n"
     ]
    }
   ],
   "source": [
    "returns_data = pd.read_csv('Data/Stocks and Market Returns.csv', index_col=0, parse_dates=True)\n",
    "stocks = returns_data[['ENB', 'LHX', 'CRM']]\n",
    "for stock in stocks:\n",
    "    returns = stocks[stock].dropna()\n",
    "    print(f\"{stock} VaR: {simulated_var_analysis(returns):.2%}\")"
   ]
  }
 ],
 "metadata": {
  "kernelspec": {
   "display_name": ".venv",
   "language": "python",
   "name": "python3"
  },
  "language_info": {
   "codemirror_mode": {
    "name": "ipython",
    "version": 3
   },
   "file_extension": ".py",
   "mimetype": "text/x-python",
   "name": "python",
   "nbconvert_exporter": "python",
   "pygments_lexer": "ipython3",
   "version": "3.11.8"
  }
 },
 "nbformat": 4,
 "nbformat_minor": 2
}
