{
 "cells": [
  {
   "cell_type": "code",
   "execution_count": 149,
   "metadata": {},
   "outputs": [],
   "source": [
    "import numpy as np\n",
    "from numpy.random import default_rng\n",
    "import matplotlib.pyplot as plt\n",
    "from scipy.stats import probplot\n",
    "from scipy.stats import kstest, norm\n",
    "from numpy.random import choice"
   ]
  },
  {
   "cell_type": "markdown",
   "metadata": {},
   "source": [
    "<h3> A. Function that returns 1-D Array of 200 i.i.d. draws </h3>"
   ]
  },
  {
   "cell_type": "code",
   "execution_count": 150,
   "metadata": {},
   "outputs": [
    {
     "name": "stdout",
     "output_type": "stream",
     "text": [
      "[ 0.99664416  1.32868533  0.68141569  1.55063467 -1.1016776  -0.4999242\n",
      " -0.484545    0.03465076  0.42499206 -0.17872206 -0.19136011  1.15146839\n",
      "  0.85605226 -0.41637127  1.80227626  0.161568   -1.97011595  0.26080303\n",
      " -0.07648948 -0.32343803  0.26665712 -0.07407483  1.24566387 -0.42095837\n",
      "  0.27660579 -0.90903712 -2.01179043 -0.70069865  0.24371707  1.70720348\n",
      " -1.24952146  0.39862068 -0.38414013 -0.81778571  0.97690158  1.34397682\n",
      " -2.11527867  0.27953806  0.784837    0.71630894 -0.64125207 -1.39032688\n",
      " -0.38042512 -1.63054565  0.23986372  0.05884165  0.79092741 -1.58583703\n",
      " -2.3530442   0.79029585 -0.54705223 -0.52507975 -0.59752363  0.82450267\n",
      " -1.3272782  -0.92906652 -0.20276588  0.29814287  1.47113901 -0.07830058\n",
      "  0.04603715  0.65920199 -0.33011511  1.08327669 -0.28320918 -0.9415777\n",
      "  2.71624198  0.32460172 -0.93069661  1.51582641  0.81183151 -1.13608142\n",
      "  0.37021641 -2.0556192  -0.47804866 -2.1556993   0.86599689  1.2121268\n",
      " -0.61116847  0.32014598  0.0375895  -0.09259578 -0.32197598  0.09860388\n",
      "  1.76341244  0.45094522  0.59581747  0.91213151  4.20603412 -0.1988921\n",
      "  0.16199891  2.48519172 -0.07014437 -0.85423515 -1.2241064  -1.06627346\n",
      " -0.57701462  1.0227684   0.03518322  0.33614286  0.50626563 -1.66707654\n",
      "  0.57327885  0.57041835  1.20673226 -1.86684772 -1.24279302  0.43220666\n",
      "  0.59329853 -0.61289263 -0.04551845  0.57747019  1.53490235 -0.54946015\n",
      " -0.29209358  0.40808935 -0.24086695  0.03608184  0.55747377 -1.03701085\n",
      " -0.42400768 -0.423712    0.15051473  0.92813766 -0.17680361 -0.37220573\n",
      " -0.59541002 -0.29718072  1.82472936 -0.78513629 -0.16020567 -1.33091981\n",
      " -4.5334699  -1.10980738  0.21685284 -0.10292409  0.55436493  0.82393692\n",
      "  1.14838284  1.5241682   0.0307472  -0.56679289 -0.30643463 -1.34026388\n",
      "  0.01452659  0.50474492 -1.75673471 -0.80183915 -0.11716911 -2.29234163\n",
      "  0.07374486 -1.07500278  0.05013531  0.41364162 -1.40682781  2.30794607\n",
      " -0.55640709  2.20339966 -0.74462633 -3.2076495  -0.04306732 -1.92222009\n",
      " -0.45664254  0.4177545   0.98584766  0.5751127  -2.25255681  0.30618227\n",
      "  1.83120992  1.07805474  0.33605069 -0.56719074 -5.08022006 -0.73272952\n",
      "  0.52212568 -1.49342719  0.1045041   0.92236071 -0.32683004 -2.6127407\n",
      " -3.0111822  -0.07544943 -0.51471778 -0.52305641 -0.43894155 -1.48823851\n",
      "  0.25563303  0.60534967  1.3008229  -1.07894585  2.80210162 -2.04495614\n",
      " -2.39726385 -1.65591746  0.12281203 -0.80370416  0.44791289  0.62892812\n",
      " -2.24936418  0.02892491]\n"
     ]
    }
   ],
   "source": [
    "def tea_time(BG, d):\n",
    "    return BG.standard_t(d, size=200)\n",
    "\n",
    "print(tea_time(np.random.default_rng(), 5))"
   ]
  },
  {
   "cell_type": "markdown",
   "metadata": {},
   "source": [
    "<h3> B. Function that returns 1-D array dependent on replacement parameter </h3>"
   ]
  },
  {
   "cell_type": "code",
   "execution_count": 151,
   "metadata": {},
   "outputs": [],
   "source": [
    "def BGAR(bg, a, r: bool):\n",
    "    return bg.choice(a, size=len(a), replace=r)"
   ]
  },
  {
   "cell_type": "markdown",
   "metadata": {},
   "source": [
    "Testing code using 1 example Array:"
   ]
  },
  {
   "cell_type": "code",
   "execution_count": 152,
   "metadata": {},
   "outputs": [
    {
     "name": "stdout",
     "output_type": "stream",
     "text": [
      "Random Draws with Replacement: [ 0.25931353  1.22272879  1.22272879  2.49185677  2.49185677  1.22272879\n",
      "  0.25931353  1.69473587 -0.21632904  1.58188758]\n",
      "Random Draws without Replacement: [-0.654019    1.77973116  0.25931353  1.22272879  2.49185677  1.69473587\n",
      " -1.44875661  1.58188758 -0.21632904  0.18202488]\n"
     ]
    }
   ],
   "source": [
    "example_array = np.random.standard_t(5, size=10)\n",
    "\n",
    "BGAR1 = BGAR(np.random.default_rng(), example_array, True)\n",
    "BGAR2 = BGAR(np.random.default_rng(), example_array, False)\n",
    "\n",
    "print(f\"Random Draws with Replacement: {BGAR1}\")\n",
    "print(f\"Random Draws without Replacement: {BGAR2}\")"
   ]
  },
  {
   "cell_type": "markdown",
   "metadata": {},
   "source": [
    "<h3> C. Function that returns probaility plot of 1-D array vs. a N(0,1) distribution. </h3>"
   ]
  },
  {
   "cell_type": "code",
   "execution_count": 153,
   "metadata": {},
   "outputs": [
    {
     "data": {
      "image/png": "[encoded data removed]",
      "text/plain": [
       "<Figure size 640x480 with 1 Axes>"
      ]
     },
     "metadata": {},
     "output_type": "display_data"
    }
   ],
   "source": [
    "def pplot(s):\n",
    "    probplot(s, dist=\"norm\", plot=plt)\n",
    "    plt.show()\n",
    "\n",
    "\n",
    "pplot(np.random.default_rng().standard_t(5, size=200))"
   ]
  },
  {
   "cell_type": "markdown",
   "metadata": {},
   "source": [
    "<h3> D. Function that returns probability of rejecting H0 of a Kolmogorov-Smirnov test dependent on 1-D array. </h3>"
   ]
  },
  {
   "cell_type": "code",
   "execution_count": 154,
   "metadata": {},
   "outputs": [],
   "source": [
    "def BGAT(bg, a, T: int):\n",
    "    count = 0\n",
    "    for _ in range(T):\n",
    "        boot = bg.choice(a, size=len(a), replace=True)\n",
    "        p_value = kstest(boot, 'norm', args=(0, 1)).pvalue\n",
    "        if p_value < 0.05:\n",
    "            count += 1\n",
    "    return count / T"
   ]
  },
  {
   "cell_type": "markdown",
   "metadata": {},
   "source": [
    "Testing code with 3 different arrays:"
   ]
  },
  {
   "cell_type": "code",
   "execution_count": 155,
   "metadata": {},
   "outputs": [
    {
     "name": "stdout",
     "output_type": "stream",
     "text": [
      "Results for Array 1:\n"
     ]
    },
    {
     "name": "stdout",
     "output_type": "stream",
     "text": [
      "1. Probability H0 is rejected at a 5% significance level: 0.511\n",
      "2. Probability H0 is rejected at a 5% significance level: 0.495\n",
      "3. Probability H0 is rejected at a 5% significance level: 0.508\n",
      "4. Probability H0 is rejected at a 5% significance level: 0.5\n",
      "5. Probability H0 is rejected at a 5% significance level: 0.497\n",
      "\n",
      "Results for Array 2:\n",
      "1. Probability H0 is rejected at a 5% significance level: 0.591\n",
      "2. Probability H0 is rejected at a 5% significance level: 0.618\n",
      "3. Probability H0 is rejected at a 5% significance level: 0.603\n",
      "4. Probability H0 is rejected at a 5% significance level: 0.609\n",
      "5. Probability H0 is rejected at a 5% significance level: 0.602\n",
      "\n",
      "Results for Array 3:\n",
      "1. Probability H0 is rejected at a 5% significance level: 0.163\n",
      "2. Probability H0 is rejected at a 5% significance level: 0.174\n",
      "3. Probability H0 is rejected at a 5% significance level: 0.14\n",
      "4. Probability H0 is rejected at a 5% significance level: 0.171\n",
      "5. Probability H0 is rejected at a 5% significance level: 0.163\n"
     ]
    }
   ],
   "source": [
    "\n",
    "example_array1 = np.random.standard_t(5, size=200)\n",
    "example_array2 = np.random.standard_t(5, size=200)\n",
    "example_array3 = np.random.standard_t(5, size=200)  \n",
    "probability_count = 5\n",
    "\n",
    "results = []\n",
    "\n",
    "print(\"Results for Array 1:\")\n",
    "for i in range(probability_count):\n",
    "    rng = np.random.default_rng()\n",
    "    result = BGAT(rng, example_array1, 1000)\n",
    "    \n",
    "    results.append(result)\n",
    "    \n",
    "    # Print the result\n",
    "    print(f\"{i+1}. Probability H0 is rejected at a 5% significance level: {result}\")\n",
    "print(\"\\nResults for Array 2:\")\n",
    "for i in range(probability_count):\n",
    "    rng = np.random.default_rng()\n",
    "    result = BGAT(rng, example_array2, 1000)\n",
    "    \n",
    "    results.append(result)\n",
    "    \n",
    "    # Print the result\n",
    "    print(f\"{i+1}. Probability H0 is rejected at a 5% significance level: {result}\")\n",
    "print(\"\\nResults for Array 3:\")\n",
    "for i in range(probability_count):\n",
    "    rng = np.random.default_rng()\n",
    "    result = BGAT(rng, example_array3, 1000)\n",
    "    \n",
    "    results.append(result)\n",
    "    \n",
    "    # Print the result\n",
    "    print(f\"{i+1}. Probability H0 is rejected at a 5% significance level: {result}\")\n"
   ]
  }
 ],
 "metadata": {
  "kernelspec": {
   "display_name": ".venv",
   "language": "python",
   "name": "python3"
  },
  "language_info": {
   "codemirror_mode": {
    "name": "ipython",
    "version": 3
   },
   "file_extension": ".py",
   "mimetype": "text/x-python",
   "name": "python",
   "nbconvert_exporter": "python",
   "pygments_lexer": "ipython3",
   "version": "3.11.8"
  }
 },
 "nbformat": 4,
 "nbformat_minor": 2
}
